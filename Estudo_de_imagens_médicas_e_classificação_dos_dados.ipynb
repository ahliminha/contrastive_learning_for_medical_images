{
  "nbformat": 4,
  "nbformat_minor": 0,
  "metadata": {
    "accelerator": "GPU",
    "colab": {
      "name": "Estudo de imagens médicas e classificação dos dados.ipynb",
      "provenance": [],
      "collapsed_sections": [],
      "mount_file_id": "1EehQMl0sVIrJ_onyJwKbT6u9q5tplDHE",
      "authorship_tag": "ABX9TyPG26BB02Wb5FQsem67i47N",
      "include_colab_link": true
    },
    "kernelspec": {
      "display_name": "Python 3",
      "name": "python3"
    },
    "language_info": {
      "name": "python"
    }
  },
  "cells": [
    {
      "cell_type": "markdown",
      "metadata": {
        "id": "view-in-github",
        "colab_type": "text"
      },
      "source": [
        "<a href=\"https://colab.research.google.com/github/ahliminha/contrastive_learning_for_medical_images/blob/main/Estudo_de_imagens_m%C3%A9dicas_e_classifica%C3%A7%C3%A3o_dos_dados.ipynb\" target=\"_parent\"><img src=\"https://colab.research.google.com/assets/colab-badge.svg\" alt=\"Open In Colab\"/></a>"
      ]
    },
    {
      "cell_type": "markdown",
      "metadata": {
        "id": "4brLKm5RENqh"
      },
      "source": [
        "# Estudo sobre imagens médicas de Raios-X em pacientes saudáveis e diagnosticados com Covid-19"
      ]
    },
    {
      "cell_type": "markdown",
      "metadata": {
        "id": "wcjKRadBEXks"
      },
      "source": [
        "## Preparação do ambiente"
      ]
    },
    {
      "cell_type": "markdown",
      "metadata": {
        "id": "PRIZ_Strvhb-"
      },
      "source": [
        "https://stackoverflow.com/questions/60798910/google-colab-pro-gpu-running-extremely-slow"
      ]
    },
    {
      "cell_type": "code",
      "metadata": {
        "colab": {
          "base_uri": "https://localhost:8080/"
        },
        "id": "3x4q3fJ0pqPh",
        "outputId": "de97868c-7863-43a1-ab75-a58d5aa02080"
      },
      "source": [
        "!pip install tensorflow-addons"
      ],
      "execution_count": null,
      "outputs": [
        {
          "output_type": "stream",
          "name": "stdout",
          "text": [
            "Collecting tensorflow-addons\n",
            "  Downloading tensorflow_addons-0.14.0-cp37-cp37m-manylinux_2_12_x86_64.manylinux2010_x86_64.whl (1.1 MB)\n",
            "\u001b[?25l\r\u001b[K     |▎                               | 10 kB 18.5 MB/s eta 0:00:01\r\u001b[K     |▋                               | 20 kB 24.6 MB/s eta 0:00:01\r\u001b[K     |▉                               | 30 kB 12.4 MB/s eta 0:00:01\r\u001b[K     |█▏                              | 40 kB 9.9 MB/s eta 0:00:01\r\u001b[K     |█▌                              | 51 kB 5.2 MB/s eta 0:00:01\r\u001b[K     |█▊                              | 61 kB 5.4 MB/s eta 0:00:01\r\u001b[K     |██                              | 71 kB 6.0 MB/s eta 0:00:01\r\u001b[K     |██▍                             | 81 kB 6.7 MB/s eta 0:00:01\r\u001b[K     |██▋                             | 92 kB 6.9 MB/s eta 0:00:01\r\u001b[K     |███                             | 102 kB 5.4 MB/s eta 0:00:01\r\u001b[K     |███▎                            | 112 kB 5.4 MB/s eta 0:00:01\r\u001b[K     |███▌                            | 122 kB 5.4 MB/s eta 0:00:01\r\u001b[K     |███▉                            | 133 kB 5.4 MB/s eta 0:00:01\r\u001b[K     |████▏                           | 143 kB 5.4 MB/s eta 0:00:01\r\u001b[K     |████▍                           | 153 kB 5.4 MB/s eta 0:00:01\r\u001b[K     |████▊                           | 163 kB 5.4 MB/s eta 0:00:01\r\u001b[K     |█████                           | 174 kB 5.4 MB/s eta 0:00:01\r\u001b[K     |█████▎                          | 184 kB 5.4 MB/s eta 0:00:01\r\u001b[K     |█████▋                          | 194 kB 5.4 MB/s eta 0:00:01\r\u001b[K     |██████                          | 204 kB 5.4 MB/s eta 0:00:01\r\u001b[K     |██████▏                         | 215 kB 5.4 MB/s eta 0:00:01\r\u001b[K     |██████▌                         | 225 kB 5.4 MB/s eta 0:00:01\r\u001b[K     |██████▉                         | 235 kB 5.4 MB/s eta 0:00:01\r\u001b[K     |███████                         | 245 kB 5.4 MB/s eta 0:00:01\r\u001b[K     |███████▍                        | 256 kB 5.4 MB/s eta 0:00:01\r\u001b[K     |███████▊                        | 266 kB 5.4 MB/s eta 0:00:01\r\u001b[K     |████████                        | 276 kB 5.4 MB/s eta 0:00:01\r\u001b[K     |████████▎                       | 286 kB 5.4 MB/s eta 0:00:01\r\u001b[K     |████████▋                       | 296 kB 5.4 MB/s eta 0:00:01\r\u001b[K     |████████▉                       | 307 kB 5.4 MB/s eta 0:00:01\r\u001b[K     |█████████▏                      | 317 kB 5.4 MB/s eta 0:00:01\r\u001b[K     |█████████▌                      | 327 kB 5.4 MB/s eta 0:00:01\r\u001b[K     |█████████▊                      | 337 kB 5.4 MB/s eta 0:00:01\r\u001b[K     |██████████                      | 348 kB 5.4 MB/s eta 0:00:01\r\u001b[K     |██████████▍                     | 358 kB 5.4 MB/s eta 0:00:01\r\u001b[K     |██████████▋                     | 368 kB 5.4 MB/s eta 0:00:01\r\u001b[K     |███████████                     | 378 kB 5.4 MB/s eta 0:00:01\r\u001b[K     |███████████▎                    | 389 kB 5.4 MB/s eta 0:00:01\r\u001b[K     |███████████▌                    | 399 kB 5.4 MB/s eta 0:00:01\r\u001b[K     |███████████▉                    | 409 kB 5.4 MB/s eta 0:00:01\r\u001b[K     |████████████▏                   | 419 kB 5.4 MB/s eta 0:00:01\r\u001b[K     |████████████▍                   | 430 kB 5.4 MB/s eta 0:00:01\r\u001b[K     |████████████▊                   | 440 kB 5.4 MB/s eta 0:00:01\r\u001b[K     |█████████████                   | 450 kB 5.4 MB/s eta 0:00:01\r\u001b[K     |█████████████▎                  | 460 kB 5.4 MB/s eta 0:00:01\r\u001b[K     |█████████████▋                  | 471 kB 5.4 MB/s eta 0:00:01\r\u001b[K     |██████████████                  | 481 kB 5.4 MB/s eta 0:00:01\r\u001b[K     |██████████████▏                 | 491 kB 5.4 MB/s eta 0:00:01\r\u001b[K     |██████████████▌                 | 501 kB 5.4 MB/s eta 0:00:01\r\u001b[K     |██████████████▉                 | 512 kB 5.4 MB/s eta 0:00:01\r\u001b[K     |███████████████                 | 522 kB 5.4 MB/s eta 0:00:01\r\u001b[K     |███████████████▍                | 532 kB 5.4 MB/s eta 0:00:01\r\u001b[K     |███████████████▊                | 542 kB 5.4 MB/s eta 0:00:01\r\u001b[K     |████████████████                | 552 kB 5.4 MB/s eta 0:00:01\r\u001b[K     |████████████████▎               | 563 kB 5.4 MB/s eta 0:00:01\r\u001b[K     |████████████████▋               | 573 kB 5.4 MB/s eta 0:00:01\r\u001b[K     |████████████████▉               | 583 kB 5.4 MB/s eta 0:00:01\r\u001b[K     |█████████████████▏              | 593 kB 5.4 MB/s eta 0:00:01\r\u001b[K     |█████████████████▌              | 604 kB 5.4 MB/s eta 0:00:01\r\u001b[K     |█████████████████▊              | 614 kB 5.4 MB/s eta 0:00:01\r\u001b[K     |██████████████████              | 624 kB 5.4 MB/s eta 0:00:01\r\u001b[K     |██████████████████▍             | 634 kB 5.4 MB/s eta 0:00:01\r\u001b[K     |██████████████████▋             | 645 kB 5.4 MB/s eta 0:00:01\r\u001b[K     |███████████████████             | 655 kB 5.4 MB/s eta 0:00:01\r\u001b[K     |███████████████████▎            | 665 kB 5.4 MB/s eta 0:00:01\r\u001b[K     |███████████████████▌            | 675 kB 5.4 MB/s eta 0:00:01\r\u001b[K     |███████████████████▉            | 686 kB 5.4 MB/s eta 0:00:01\r\u001b[K     |████████████████████▏           | 696 kB 5.4 MB/s eta 0:00:01\r\u001b[K     |████████████████████▍           | 706 kB 5.4 MB/s eta 0:00:01\r\u001b[K     |████████████████████▊           | 716 kB 5.4 MB/s eta 0:00:01\r\u001b[K     |█████████████████████           | 727 kB 5.4 MB/s eta 0:00:01\r\u001b[K     |█████████████████████▎          | 737 kB 5.4 MB/s eta 0:00:01\r\u001b[K     |█████████████████████▋          | 747 kB 5.4 MB/s eta 0:00:01\r\u001b[K     |██████████████████████          | 757 kB 5.4 MB/s eta 0:00:01\r\u001b[K     |██████████████████████▏         | 768 kB 5.4 MB/s eta 0:00:01\r\u001b[K     |██████████████████████▌         | 778 kB 5.4 MB/s eta 0:00:01\r\u001b[K     |██████████████████████▉         | 788 kB 5.4 MB/s eta 0:00:01\r\u001b[K     |███████████████████████         | 798 kB 5.4 MB/s eta 0:00:01\r\u001b[K     |███████████████████████▍        | 808 kB 5.4 MB/s eta 0:00:01\r\u001b[K     |███████████████████████▊        | 819 kB 5.4 MB/s eta 0:00:01\r\u001b[K     |████████████████████████        | 829 kB 5.4 MB/s eta 0:00:01\r\u001b[K     |████████████████████████▎       | 839 kB 5.4 MB/s eta 0:00:01\r\u001b[K     |████████████████████████▋       | 849 kB 5.4 MB/s eta 0:00:01\r\u001b[K     |████████████████████████▉       | 860 kB 5.4 MB/s eta 0:00:01\r\u001b[K     |█████████████████████████▏      | 870 kB 5.4 MB/s eta 0:00:01\r\u001b[K     |█████████████████████████▍      | 880 kB 5.4 MB/s eta 0:00:01\r\u001b[K     |█████████████████████████▊      | 890 kB 5.4 MB/s eta 0:00:01\r\u001b[K     |██████████████████████████      | 901 kB 5.4 MB/s eta 0:00:01\r\u001b[K     |██████████████████████████▎     | 911 kB 5.4 MB/s eta 0:00:01\r\u001b[K     |██████████████████████████▋     | 921 kB 5.4 MB/s eta 0:00:01\r\u001b[K     |███████████████████████████     | 931 kB 5.4 MB/s eta 0:00:01\r\u001b[K     |███████████████████████████▏    | 942 kB 5.4 MB/s eta 0:00:01\r\u001b[K     |███████████████████████████▌    | 952 kB 5.4 MB/s eta 0:00:01\r\u001b[K     |███████████████████████████▉    | 962 kB 5.4 MB/s eta 0:00:01\r\u001b[K     |████████████████████████████    | 972 kB 5.4 MB/s eta 0:00:01\r\u001b[K     |████████████████████████████▍   | 983 kB 5.4 MB/s eta 0:00:01\r\u001b[K     |████████████████████████████▊   | 993 kB 5.4 MB/s eta 0:00:01\r\u001b[K     |█████████████████████████████   | 1.0 MB 5.4 MB/s eta 0:00:01\r\u001b[K     |█████████████████████████████▎  | 1.0 MB 5.4 MB/s eta 0:00:01\r\u001b[K     |█████████████████████████████▋  | 1.0 MB 5.4 MB/s eta 0:00:01\r\u001b[K     |█████████████████████████████▉  | 1.0 MB 5.4 MB/s eta 0:00:01\r\u001b[K     |██████████████████████████████▏ | 1.0 MB 5.4 MB/s eta 0:00:01\r\u001b[K     |██████████████████████████████▌ | 1.1 MB 5.4 MB/s eta 0:00:01\r\u001b[K     |██████████████████████████████▊ | 1.1 MB 5.4 MB/s eta 0:00:01\r\u001b[K     |███████████████████████████████ | 1.1 MB 5.4 MB/s eta 0:00:01\r\u001b[K     |███████████████████████████████▍| 1.1 MB 5.4 MB/s eta 0:00:01\r\u001b[K     |███████████████████████████████▋| 1.1 MB 5.4 MB/s eta 0:00:01\r\u001b[K     |████████████████████████████████| 1.1 MB 5.4 MB/s eta 0:00:01\r\u001b[K     |████████████████████████████████| 1.1 MB 5.4 MB/s \n",
            "\u001b[?25hRequirement already satisfied: typeguard>=2.7 in /usr/local/lib/python3.7/dist-packages (from tensorflow-addons) (2.7.1)\n",
            "Installing collected packages: tensorflow-addons\n",
            "Successfully installed tensorflow-addons-0.14.0\n"
          ]
        }
      ]
    },
    {
      "cell_type": "code",
      "metadata": {
        "colab": {
          "base_uri": "https://localhost:8080/"
        },
        "id": "orYaK7Jn6-sl",
        "outputId": "ea028ebe-7ff3-41ad-97de-a03e8b266bd0"
      },
      "source": [
        "!pip install piq"
      ],
      "execution_count": null,
      "outputs": [
        {
          "output_type": "stream",
          "name": "stdout",
          "text": [
            "Collecting piq\n",
            "  Downloading piq-0.6.0-py3-none-any.whl (127 kB)\n",
            "\u001b[?25l\r\u001b[K     |██▋                             | 10 kB 25.2 MB/s eta 0:00:01\r\u001b[K     |█████▏                          | 20 kB 27.1 MB/s eta 0:00:01\r\u001b[K     |███████▊                        | 30 kB 12.2 MB/s eta 0:00:01\r\u001b[K     |██████████▎                     | 40 kB 9.6 MB/s eta 0:00:01\r\u001b[K     |████████████▉                   | 51 kB 5.4 MB/s eta 0:00:01\r\u001b[K     |███████████████▍                | 61 kB 5.8 MB/s eta 0:00:01\r\u001b[K     |██████████████████              | 71 kB 5.8 MB/s eta 0:00:01\r\u001b[K     |████████████████████▌           | 81 kB 6.4 MB/s eta 0:00:01\r\u001b[K     |███████████████████████▏        | 92 kB 4.9 MB/s eta 0:00:01\r\u001b[K     |█████████████████████████▊      | 102 kB 5.3 MB/s eta 0:00:01\r\u001b[K     |████████████████████████████▎   | 112 kB 5.3 MB/s eta 0:00:01\r\u001b[K     |██████████████████████████████▉ | 122 kB 5.3 MB/s eta 0:00:01\r\u001b[K     |████████████████████████████████| 127 kB 5.3 MB/s \n",
            "\u001b[?25hRequirement already satisfied: torchvision>=0.6.1 in /usr/local/lib/python3.7/dist-packages (from piq) (0.10.0+cu111)\n",
            "Requirement already satisfied: numpy in /usr/local/lib/python3.7/dist-packages (from torchvision>=0.6.1->piq) (1.19.5)\n",
            "Requirement already satisfied: pillow>=5.3.0 in /usr/local/lib/python3.7/dist-packages (from torchvision>=0.6.1->piq) (7.1.2)\n",
            "Requirement already satisfied: torch==1.9.0 in /usr/local/lib/python3.7/dist-packages (from torchvision>=0.6.1->piq) (1.9.0+cu111)\n",
            "Requirement already satisfied: typing-extensions in /usr/local/lib/python3.7/dist-packages (from torch==1.9.0->torchvision>=0.6.1->piq) (3.7.4.3)\n",
            "Installing collected packages: piq\n",
            "Successfully installed piq-0.6.0\n"
          ]
        }
      ]
    },
    {
      "cell_type": "code",
      "metadata": {
        "colab": {
          "base_uri": "https://localhost:8080/"
        },
        "id": "2flkUElkliXr",
        "outputId": "a0b21965-e1f6-4b0d-8a9e-a928db1719a5"
      },
      "source": [
        "! pip install gdown"
      ],
      "execution_count": null,
      "outputs": [
        {
          "output_type": "stream",
          "name": "stdout",
          "text": [
            "Requirement already satisfied: gdown in /usr/local/lib/python3.7/dist-packages (3.6.4)\n",
            "Requirement already satisfied: six in /usr/local/lib/python3.7/dist-packages (from gdown) (1.15.0)\n",
            "Requirement already satisfied: requests in /usr/local/lib/python3.7/dist-packages (from gdown) (2.23.0)\n",
            "Requirement already satisfied: tqdm in /usr/local/lib/python3.7/dist-packages (from gdown) (4.62.3)\n",
            "Requirement already satisfied: certifi>=2017.4.17 in /usr/local/lib/python3.7/dist-packages (from requests->gdown) (2021.5.30)\n",
            "Requirement already satisfied: urllib3!=1.25.0,!=1.25.1,<1.26,>=1.21.1 in /usr/local/lib/python3.7/dist-packages (from requests->gdown) (1.24.3)\n",
            "Requirement already satisfied: idna<3,>=2.5 in /usr/local/lib/python3.7/dist-packages (from requests->gdown) (2.10)\n",
            "Requirement already satisfied: chardet<4,>=3.0.2 in /usr/local/lib/python3.7/dist-packages (from requests->gdown) (3.0.4)\n"
          ]
        }
      ]
    },
    {
      "cell_type": "code",
      "metadata": {
        "id": "iYNExiTpsHl-"
      },
      "source": [
        "import glob\n",
        "import pandas as pd\n",
        "import os\n",
        "import numpy as np\n",
        "import random\n",
        "import matplotlib.pyplot as plt\n",
        "import tensorflow as tf\n",
        "from tensorflow.keras import layers\n",
        "import gdown\n",
        "\n",
        "tf.config.run_functions_eagerly(True)\n",
        "np.random.seed(0)"
      ],
      "execution_count": null,
      "outputs": []
    },
    {
      "cell_type": "code",
      "metadata": {
        "colab": {
          "base_uri": "https://localhost:8080/"
        },
        "id": "d0aqyOoDfc4k",
        "outputId": "980418dc-e12c-4e40-9349-957f05dfbd53"
      },
      "source": [
        "! gdown https://drive.google.com/uc?id=1ZMgUQkwNqvMrZ8QaQmSbiDqXOWAewwou"
      ],
      "execution_count": null,
      "outputs": [
        {
          "output_type": "stream",
          "name": "stdout",
          "text": [
            "Downloading...\n",
            "From: https://drive.google.com/uc?id=1ZMgUQkwNqvMrZ8QaQmSbiDqXOWAewwou\n",
            "To: /content/COVID-19_Radiography_Database.zip\n",
            "100% 780M/780M [00:07<00:00, 110MB/s]\n"
          ]
        }
      ]
    },
    {
      "cell_type": "code",
      "metadata": {
        "id": "2DrRDcPkt2SL"
      },
      "source": [
        "! mkdir dataset \n",
        "! unzip COVID-19_Radiography_Database.zip -d dataset"
      ],
      "execution_count": null,
      "outputs": []
    },
    {
      "cell_type": "code",
      "metadata": {
        "id": "DpTUiLLCBZn0"
      },
      "source": [
        "! rm -r '/content/dataset/COVID-19_Radiography_Dataset/Lung_Opacity'"
      ],
      "execution_count": null,
      "outputs": []
    },
    {
      "cell_type": "code",
      "metadata": {
        "id": "NNFIimwjHOtb"
      },
      "source": [
        "! rm -r '/content/dataset/COVID-19_Radiography_Dataset/Viral Pneumonia'"
      ],
      "execution_count": null,
      "outputs": []
    },
    {
      "cell_type": "markdown",
      "metadata": {
        "id": "3MOciUiYEiGQ"
      },
      "source": [
        "## Preparação do dataset"
      ]
    },
    {
      "cell_type": "code",
      "metadata": {
        "id": "7nPN1_wktuFI"
      },
      "source": [
        "train_data_dir = \"/content/dataset/COVID-19_Radiography_Dataset\""
      ],
      "execution_count": null,
      "outputs": []
    },
    {
      "cell_type": "code",
      "metadata": {
        "id": "mL7v2Qc6aGox"
      },
      "source": [
        "def preprocess_image(filename):\n",
        "    \"\"\"\n",
        "    Load the specified file as a JPEG image, preprocess it and\n",
        "    resize it to the target shape.\n",
        "    \"\"\"\n",
        "\n",
        "    image_string = tf.io.read_file(filename)\n",
        "    image = tf.image.decode_jpeg(image_string, channels=3)\n",
        "    image = tf.image.convert_image_dtype(image, tf.float32)\n",
        "    image = tf.image.resize(image, target_shape)\n",
        "    return image"
      ],
      "execution_count": null,
      "outputs": []
    },
    {
      "cell_type": "code",
      "metadata": {
        "colab": {
          "base_uri": "https://localhost:8080/"
        },
        "id": "haapd4QAiGdg",
        "outputId": "9da49e7c-d199-4a21-bd7e-0176f8678314"
      },
      "source": [
        "img_height, img_width=64,64\n",
        "input_shape = (img_width, img_width, 3)\n",
        "batch_size = 100\n",
        "\n",
        "train_ds = tf.keras.utils.image_dataset_from_directory(\n",
        "  train_data_dir,\n",
        "  validation_split=0.3,\n",
        "  subset=\"training\",\n",
        "  seed=123,\n",
        "  image_size=(img_height, img_width),\n",
        "  batch_size=batch_size,\n",
        "  label_mode='int')\n",
        "\n",
        "val_ds = tf.keras.utils.image_dataset_from_directory(\n",
        "  train_data_dir,\n",
        "  validation_split=0.3,\n",
        "  subset=\"validation\",\n",
        "  seed=123,\n",
        "  image_size=(img_height, img_width),\n",
        "  batch_size=batch_size,\n",
        "  label_mode='int')\n"
      ],
      "execution_count": null,
      "outputs": [
        {
          "output_type": "stream",
          "name": "stdout",
          "text": [
            "Found 13808 files belonging to 2 classes.\n",
            "Using 9666 files for training.\n"
          ]
        },
        {
          "output_type": "stream",
          "name": "stderr",
          "text": [
            "/usr/local/lib/python3.7/dist-packages/tensorflow/python/data/ops/dataset_ops.py:4212: UserWarning: Even though the `tf.config.experimental_run_functions_eagerly` option is set, this option does not apply to tf.data functions. To force eager execution of tf.data functions, please use `tf.data.experimental.enable_debug_mode()`.\n",
            "  \"Even though the `tf.config.experimental_run_functions_eagerly` \"\n"
          ]
        },
        {
          "output_type": "stream",
          "name": "stdout",
          "text": [
            "Found 13808 files belonging to 2 classes.\n",
            "Using 4142 files for validation.\n"
          ]
        }
      ]
    },
    {
      "cell_type": "code",
      "metadata": {
        "id": "7362paRKqPLU"
      },
      "source": [
        "@tf.function\n",
        "def make_pairs(x, y):\n",
        "    \"\"\"Creates a tuple containing image pairs with corresponding label.\n",
        "\n",
        "    Arguments:\n",
        "        x: List containing images, each index in this list corresponds to one image.\n",
        "        y: List containing labels, each label with datatype of `int`.\n",
        "\n",
        "    Returns:\n",
        "        Tuple containing two numpy arrays as (pairs_of_samples, labels),\n",
        "        where pairs_of_samples' shape is (2len(x), 2,n_features_dims) and\n",
        "        labels are a binary array of shape (2len(x)).\n",
        "    \"\"\"\n",
        "    x = x.numpy()\n",
        "    y = y.numpy()\n",
        "    num_classes = max(y) + 1\n",
        "    digit_indices = [np.where(y == i)[0] for i in range(num_classes)]\n",
        "\n",
        "    pairs = []\n",
        "    labels = []\n",
        "\n",
        "    for idx1 in range(len(x)):\n",
        "        # add a matching example\n",
        "        x1 = x[idx1]\n",
        "        label1 = y[idx1]\n",
        "        idx2 = random.choice(digit_indices[label1])\n",
        "        x2 = x[idx2]\n",
        "\n",
        "        pairs += [[x1, x2]]\n",
        "        labels += [1]\n",
        "\n",
        "        # add a non-matching example\n",
        "        label2 = random.randint(0, num_classes - 1)\n",
        "        while label2 == label1:\n",
        "            label2 = random.randint(0, num_classes - 1)\n",
        "\n",
        "        idx2 = random.choice(digit_indices[label2])\n",
        "        x2 = x[idx2]\n",
        "\n",
        "        pairs += [[x1, x2]]\n",
        "        labels += [0]\n",
        "\n",
        "    return np.array(pairs), np.array(labels).astype(\"float32\")"
      ],
      "execution_count": null,
      "outputs": []
    },
    {
      "cell_type": "code",
      "metadata": {
        "colab": {
          "base_uri": "https://localhost:8080/"
        },
        "id": "j36tzt330hEL",
        "outputId": "caa21265-d86a-4e67-e050-e10ea9638a1e"
      },
      "source": [
        "print(train_ds)"
      ],
      "execution_count": null,
      "outputs": [
        {
          "output_type": "stream",
          "name": "stdout",
          "text": [
            "<BatchDataset shapes: ((None, 64, 64, 3), (None,)), types: (tf.float32, tf.int32)>\n"
          ]
        }
      ]
    },
    {
      "cell_type": "code",
      "metadata": {
        "id": "H9EiVMDuLZMV"
      },
      "source": [
        "@tf.function\n",
        "def process_data(data):\n",
        "  \"\"\"\n",
        "    data: Tensorflow dataset.\n",
        "  \"\"\"\n",
        "  pairs = []\n",
        "  labels = []\n",
        "\n",
        "  for x, y in data:\n",
        "    x_transformed, y_transformed = make_pairs(x, y)\n",
        "    pairs.append(x_transformed)\n",
        "    labels.append(y_transformed)\n",
        "  \n",
        "  return (np.concatenate(pairs, axis=0), np.concatenate(labels, axis=0))"
      ],
      "execution_count": null,
      "outputs": []
    },
    {
      "cell_type": "code",
      "metadata": {
        "id": "68B08YsYDOdY"
      },
      "source": [
        "pairs_train, labels_train = process_data(train_ds)"
      ],
      "execution_count": null,
      "outputs": []
    },
    {
      "cell_type": "code",
      "metadata": {
        "id": "e3qwf36JMlaJ"
      },
      "source": [
        "pairs_val, labels_val = process_data(val_ds)"
      ],
      "execution_count": null,
      "outputs": []
    },
    {
      "cell_type": "markdown",
      "metadata": {
        "id": "rFNJvNGN5sxq"
      },
      "source": [
        "https://keras.io/examples/vision/siamese_contrastive/"
      ]
    },
    {
      "cell_type": "code",
      "metadata": {
        "id": "EnctiZKLQifF"
      },
      "source": [
        "def visualize(pairs, labels, to_show=6, num_col=3, predictions=None, test=False):\n",
        "    \"\"\"Creates a plot of pairs and labels, and prediction if it's test dataset.\n",
        "\n",
        "    Arguments:\n",
        "        pairs: Numpy Array, of pairs to visualize, having shape\n",
        "               (Number of pairs, 2, 28, 28).\n",
        "        to_show: Int, number of examples to visualize (default is 6)\n",
        "                `to_show` must be an integral multiple of `num_col`.\n",
        "                 Otherwise it will be trimmed if it is greater than num_col,\n",
        "                 and incremented if if it is less then num_col.\n",
        "        num_col: Int, number of images in one row - (default is 3)\n",
        "                 For test and train respectively, it should not exceed 3 and 7.\n",
        "        predictions: Numpy Array of predictions with shape (to_show, 1) -\n",
        "                     (default is None)\n",
        "                     Must be passed when test=True.\n",
        "        test: Boolean telling whether the dataset being visualized is\n",
        "              train dataset or test dataset - (default False).\n",
        "\n",
        "    Returns:\n",
        "        None.\n",
        "    \"\"\"\n",
        "\n",
        "    # Define num_row\n",
        "    # If to_show % num_col != 0\n",
        "    #    trim to_show,\n",
        "    #       to trim to_show limit num_row to the point where\n",
        "    #       to_show % num_col == 0\n",
        "    #\n",
        "    # If to_show//num_col == 0\n",
        "    #    then it means num_col is greater then to_show\n",
        "    #    increment to_show\n",
        "    #       to increment to_show set num_row to 1\n",
        "    num_row = to_show // num_col if to_show // num_col != 0 else 1\n",
        "\n",
        "    # `to_show` must be an integral multiple of `num_col`\n",
        "    #  we found num_row and we have num_col\n",
        "    #  to increment or decrement to_show\n",
        "    #  to make it integral multiple of `num_col`\n",
        "    #  simply set it equal to num_row * num_col\n",
        "    to_show = num_row * num_col\n",
        "\n",
        "    # Plot the images\n",
        "    fig, axes = plt.subplots(num_row, num_col, figsize=(15, 15))\n",
        "    for i in range(to_show):\n",
        "\n",
        "        # If the number of rows is 1, the axes array is one-dimensional\n",
        "        if num_row == 1:\n",
        "            ax = axes[i % num_col]\n",
        "        else:\n",
        "            ax = axes[i // num_col, i % num_col]\n",
        "\n",
        "        ax.imshow(tf.concat([pairs[i][0], pairs[i][1]], axis=1).numpy().astype('uint8'), cmap=\"gray\")\n",
        "        ax.set_axis_off()\n",
        "        if test:\n",
        "            ax.set_title(\"True: {} | Pred: {:.5f}\".format(labels[i], predictions[i][0]))\n",
        "        else:\n",
        "            ax.set_title(\"Label: {}\".format(labels[i]))\n",
        "    if test:\n",
        "        plt.tight_layout(rect=(0, 0, 1.9, 1.9), w_pad=0.0)\n",
        "    else:\n",
        "        plt.tight_layout(rect=(0, 0, 1.5, 1.5))\n",
        "    plt.show()\n"
      ],
      "execution_count": null,
      "outputs": []
    },
    {
      "cell_type": "code",
      "metadata": {
        "colab": {
          "base_uri": "https://localhost:8080/",
          "height": 226
        },
        "id": "Jhd57dZEQqFv",
        "outputId": "8849f3eb-11a3-4ba4-c94e-498a5e12ea12"
      },
      "source": [
        "visualize(pairs_train[:-1], labels_train[:-1], to_show=4, num_col=4)"
      ],
      "execution_count": null,
      "outputs": [
        {
          "output_type": "display_data",
          "data": {
            "image/png": "[encoded data removed]",
            "text/plain": [
              "<Figure size 1080x1080 with 4 Axes>"
            ]
          },
          "metadata": {
            "needs_background": "light"
          }
        }
      ]
    },
    {
      "cell_type": "code",
      "metadata": {
        "id": "wY1D29q3tAVh",
        "colab": {
          "base_uri": "https://localhost:8080/"
        },
        "outputId": "dcecc297-4bdb-40d5-bc7c-f545e6192d36"
      },
      "source": [
        "# Provided two tensors t1 and t2\n",
        "# Euclidean distance = sqrt(sum(square(t1-t2)))\n",
        "def euclidean_distance(vects):\n",
        "    \"\"\"Find the Euclidean distance between two vectors.\n",
        "\n",
        "    Arguments:\n",
        "        vects: List containing two tensors of same length.\n",
        "\n",
        "    Returns:\n",
        "        Tensor containing euclidean distance\n",
        "        (as floating point value) between vectors.\n",
        "    \"\"\"\n",
        "\n",
        "    x, y = vects\n",
        "    sum_square = tf.math.reduce_sum(tf.math.square(x - y), axis=1, keepdims=True)\n",
        "    return tf.math.sqrt(tf.math.maximum(sum_square, tf.keras.backend.epsilon()))\n",
        "\n",
        "\n",
        "input = layers.Input(input_shape)\n",
        "#x = tf.keras.layers.BatchNormalization()(input)\n",
        "#x = layers.Conv2D(4, (5, 5), activation=\"tanh\")(x)\n",
        "#x = layers.AveragePooling2D(pool_size=(2, 2))(x)\n",
        "#x = layers.Conv2D(16, (5, 5), activation=\"tanh\")(x)\n",
        "#x = layers.AveragePooling2D(pool_size=(2, 2))(x)\n",
        "#x = layers.Flatten()(x)\n",
        "#\n",
        "#x = tf.keras.layers.BatchNormalization()(x)\n",
        "#x = layers.Dense(10, activation=\"tanh\")(x)\n",
        "#embedding_network = tf.keras.Model(input, x)\n",
        "\n",
        "resnet = tf.keras.applications.EfficientNetB0(\n",
        "    include_top=False, weights='imagenet', input_shape=input_shape, pooling=\"avg\")\n",
        "\n",
        "input_1 = layers.Input(input_shape)\n",
        "input_2 = layers.Input(input_shape)\n",
        "\n",
        "# As mentioned above, Siamese Network share weights between\n",
        "# tower networks (sister networks). To allow this, we will use\n",
        "# same embedding network for both tower networks.\n",
        "tower_1 = resnet(input_1)\n",
        "tower_2 = resnet(input_2)\n",
        "\n",
        "merge_layer = layers.Lambda(euclidean_distance)([tower_1, tower_2])\n",
        "normal_layer = tf.keras.layers.BatchNormalization()(merge_layer)\n",
        "output_layer = layers.Dense(1, activation=\"sigmoid\")(normal_layer)\n",
        "siamese = tf.keras.Model(inputs=[input_1, input_2], outputs=output_layer)\n"
      ],
      "execution_count": null,
      "outputs": [
        {
          "output_type": "stream",
          "name": "stdout",
          "text": [
            "Downloading data from https://storage.googleapis.com/keras-applications/efficientnetb0_notop.h5\n",
            "16711680/16705208 [==============================] - 0s 0us/step\n",
            "16719872/16705208 [==============================] - 0s 0us/step\n"
          ]
        }
      ]
    },
    {
      "cell_type": "code",
      "metadata": {
        "id": "65beHFhHf39V"
      },
      "source": [
        "def loss(margin=1):\n",
        "    \"\"\"Provides 'constrastive_loss' an enclosing scope with variable 'margin'.\n",
        "\n",
        "  Arguments:\n",
        "      margin: Integer, defines the baseline for distance for which pairs\n",
        "              should be classified as dissimilar. - (default is 1).\n",
        "\n",
        "  Returns:\n",
        "      'constrastive_loss' function with data ('margin') attached.\n",
        "  \"\"\"\n",
        "\n",
        "    # Contrastive loss = mean( (1-true_value) * square(prediction) +\n",
        "    #                         true_value * square( max(margin-prediction, 0) ))\n",
        "    def contrastive_loss(y_true, y_pred):\n",
        "        \"\"\"Calculates the constrastive loss.\n",
        "\n",
        "      Arguments:\n",
        "          y_true: List of labels, each label is of type float32.\n",
        "          y_pred: List of predictions of same length as of y_true,\n",
        "                  each label is of type float32.\n",
        "\n",
        "      Returns:\n",
        "          A tensor containing constrastive loss as floating point value.\n",
        "      \"\"\"\n",
        "\n",
        "        square_pred = tf.math.square(y_pred)\n",
        "        margin_square = tf.math.square(tf.math.maximum(margin - (y_pred), 0))\n",
        "        return tf.math.reduce_mean(\n",
        "            (1 - y_true) * square_pred + (y_true) * margin_square\n",
        "        )\n",
        "\n",
        "    return contrastive_loss\n"
      ],
      "execution_count": null,
      "outputs": []
    },
    {
      "cell_type": "code",
      "metadata": {
        "colab": {
          "base_uri": "https://localhost:8080/"
        },
        "id": "BMkhG-IJbQK0",
        "outputId": "d2676a1b-59db-495a-b0ad-d90c5f7a69b0"
      },
      "source": [
        "siamese.compile(loss=loss(), optimizer=\"RMSprop\", metrics=[\"accuracy\"])\n",
        "siamese.summary()"
      ],
      "execution_count": null,
      "outputs": [
        {
          "output_type": "stream",
          "name": "stdout",
          "text": [
            "Model: \"model\"\n",
            "__________________________________________________________________________________________________\n",
            "Layer (type)                    Output Shape         Param #     Connected to                     \n",
            "==================================================================================================\n",
            "input_3 (InputLayer)            [(None, 64, 64, 3)]  0                                            \n",
            "__________________________________________________________________________________________________\n",
            "input_4 (InputLayer)            [(None, 64, 64, 3)]  0                                            \n",
            "__________________________________________________________________________________________________\n",
            "efficientnetb0 (Functional)     (None, 1280)         4049571     input_3[0][0]                    \n",
            "                                                                 input_4[0][0]                    \n",
            "__________________________________________________________________________________________________\n",
            "lambda (Lambda)                 (None, 1)            0           efficientnetb0[0][0]             \n",
            "                                                                 efficientnetb0[1][0]             \n",
            "__________________________________________________________________________________________________\n",
            "batch_normalization (BatchNorma (None, 1)            4           lambda[0][0]                     \n",
            "__________________________________________________________________________________________________\n",
            "dense (Dense)                   (None, 1)            2           batch_normalization[0][0]        \n",
            "==================================================================================================\n",
            "Total params: 4,049,577\n",
            "Trainable params: 4,007,552\n",
            "Non-trainable params: 42,025\n",
            "__________________________________________________________________________________________________\n"
          ]
        }
      ]
    },
    {
      "cell_type": "code",
      "metadata": {
        "id": "aSlRn9Llhhnv"
      },
      "source": [
        "x_train_1 = pairs_train[:, 0]  # x_train_1.shape is (60000, 28, 28)\n",
        "x_train_2 = pairs_train[:, 1]\n",
        "\n",
        "x_val_1 = pairs_val[:, 0]\n",
        "x_val_2 = pairs_val[:, 1]"
      ],
      "execution_count": null,
      "outputs": []
    },
    {
      "cell_type": "markdown",
      "metadata": {
        "id": "PJLD13VGErhI"
      },
      "source": [
        "## Treino da rede"
      ]
    },
    {
      "cell_type": "code",
      "metadata": {
        "colab": {
          "base_uri": "https://localhost:8080/"
        },
        "id": "xJmXINcatz3y",
        "outputId": "bdd6afee-3f28-4e30-dd7f-8f284f04618c"
      },
      "source": [
        "history = siamese.fit(\n",
        "    [x_train_1, x_train_2],\n",
        "    labels_train,\n",
        "    validation_data=([x_val_1, x_val_2], labels_val),\n",
        "    batch_size=batch_size,\n",
        "    epochs=2,\n",
        ")"
      ],
      "execution_count": null,
      "outputs": [
        {
          "output_type": "stream",
          "name": "stderr",
          "text": [
            "/usr/local/lib/python3.7/dist-packages/tensorflow/python/data/ops/dataset_ops.py:4212: UserWarning: Even though the `tf.config.experimental_run_functions_eagerly` option is set, this option does not apply to tf.data functions. To force eager execution of tf.data functions, please use `tf.data.experimental.enable_debug_mode()`.\n",
            "  \"Even though the `tf.config.experimental_run_functions_eagerly` \"\n"
          ]
        },
        {
          "output_type": "stream",
          "name": "stdout",
          "text": [
            "Epoch 1/2\n",
            "194/194 [==============================] - 195s 996ms/step - loss: 0.1461 - accuracy: 0.8098 - val_loss: 0.1076 - val_accuracy: 0.8761\n",
            "Epoch 2/2\n",
            "194/194 [==============================] - 193s 994ms/step - loss: 0.0392 - accuracy: 0.9777 - val_loss: 0.0476 - val_accuracy: 0.9404\n"
          ]
        }
      ]
    },
    {
      "cell_type": "code",
      "metadata": {
        "colab": {
          "base_uri": "https://localhost:8080/",
          "height": 338
        },
        "id": "XZ8B2axLukG1",
        "outputId": "51e5275f-fe4d-4a21-ebd1-812e068f0153"
      },
      "source": [
        "# Plotting train_loss vs val_loss\n",
        "plt.figure(figsize=(10,5))\n",
        "plt.plot(history.history[\"loss\"],label=\"loss\")\n",
        "plt.plot(history.history[\"val_loss\"],label=\"val_loss\")\n",
        "plt.legend()"
      ],
      "execution_count": null,
      "outputs": [
        {
          "output_type": "execute_result",
          "data": {
            "text/plain": [
              "<matplotlib.legend.Legend at 0x7f62f66ebc90>"
            ]
          },
          "metadata": {},
          "execution_count": 24
        },
        {
          "output_type": "display_data",
          "data": {
            "image/png": "[encoded data removed]",
            "text/plain": [
              "<Figure size 720x360 with 1 Axes>"
            ]
          },
          "metadata": {
            "needs_background": "light"
          }
        }
      ]
    },
    {
      "cell_type": "code",
      "metadata": {
        "colab": {
          "base_uri": "https://localhost:8080/",
          "height": 338
        },
        "id": "oDNTe7i9pSKM",
        "outputId": "865b1ac8-ac8b-48d6-8df6-ff1d8e7d1921"
      },
      "source": [
        "# Plotting train_accuracy vs Val_accuracy\n",
        "plt.figure(figsize=(10,5))\n",
        "plt.plot(history.history[\"accuracy\"],label=\"accuracy\")\n",
        "plt.plot(history.history[\"val_accuracy\"],label=\"val_accuracy\")\n",
        "plt.legend(loc='upper left')\n",
        "\n"
      ],
      "execution_count": null,
      "outputs": [
        {
          "output_type": "execute_result",
          "data": {
            "text/plain": [
              "<matplotlib.legend.Legend at 0x7f62f66f4b10>"
            ]
          },
          "metadata": {},
          "execution_count": 25
        },
        {
          "output_type": "display_data",
          "data": {
            "image/png": "[encoded data removed]",
            "text/plain": [
              "<Figure size 720x360 with 1 Axes>"
            ]
          },
          "metadata": {
            "needs_background": "light"
          }
        }
      ]
    },
    {
      "cell_type": "markdown",
      "metadata": {
        "id": "gKXy5cut6n5i"
      },
      "source": [
        "## Import da rede - Para não treinar de novo"
      ]
    },
    {
      "cell_type": "code",
      "metadata": {
        "id": "D14Wh08-60Pg"
      },
      "source": [
        "model = tf.keras.models.load_model('/content/drive/MyDrive/Estagio/Modelos/model_efficientnet_contrastive_imagenet_10_epochs_30_val.h5', custom_objects={'contrastive_loss': loss()})"
      ],
      "execution_count": null,
      "outputs": []
    },
    {
      "cell_type": "markdown",
      "metadata": {
        "id": "_3LaAPuYEvks"
      },
      "source": [
        "## Teste da rede"
      ]
    },
    {
      "cell_type": "code",
      "metadata": {
        "colab": {
          "base_uri": "https://localhost:8080/"
        },
        "id": "gfMqCYfPNne2",
        "outputId": "ad3f34a6-6818-406b-ac52-c7849a96b217"
      },
      "source": [
        "predictions = siamese.predict([x_val_1, x_val_2])"
      ],
      "execution_count": null,
      "outputs": [
        {
          "output_type": "stream",
          "name": "stderr",
          "text": [
            "/usr/local/lib/python3.7/dist-packages/tensorflow/python/data/ops/dataset_ops.py:4212: UserWarning: Even though the `tf.config.experimental_run_functions_eagerly` option is set, this option does not apply to tf.data functions. To force eager execution of tf.data functions, please use `tf.data.experimental.enable_debug_mode()`.\n",
            "  \"Even though the `tf.config.experimental_run_functions_eagerly` \"\n"
          ]
        }
      ]
    },
    {
      "cell_type": "code",
      "metadata": {
        "colab": {
          "base_uri": "https://localhost:8080/"
        },
        "id": "QC-esKKAOQ7L",
        "outputId": "2b2fc0c8-df10-44ef-be9d-37d0105fbbd3"
      },
      "source": [
        "predictions"
      ],
      "execution_count": null,
      "outputs": [
        {
          "output_type": "execute_result",
          "data": {
            "text/plain": [
              "array([[0.88092923],\n",
              "       [0.09146516],\n",
              "       [0.9153119 ],\n",
              "       ...,\n",
              "       [0.08511668],\n",
              "       [0.9008294 ],\n",
              "       [0.04929478]], dtype=float32)"
            ]
          },
          "metadata": {},
          "execution_count": 33
        }
      ]
    },
    {
      "cell_type": "code",
      "metadata": {
        "colab": {
          "base_uri": "https://localhost:8080/"
        },
        "id": "DRvdFdO-BxoZ",
        "outputId": "cab277d2-4d1a-400e-a8ea-f6f98802bc0d"
      },
      "source": [
        "binary_predictions = (predictions>0.5).astype(np.int_) \n",
        "print(binary_predictions)"
      ],
      "execution_count": null,
      "outputs": [
        {
          "output_type": "stream",
          "name": "stdout",
          "text": [
            "[[1]\n",
            " [0]\n",
            " [1]\n",
            " ...\n",
            " [0]\n",
            " [1]\n",
            " [0]]\n"
          ]
        }
      ]
    },
    {
      "cell_type": "code",
      "metadata": {
        "colab": {
          "base_uri": "https://localhost:8080/",
          "height": 279
        },
        "id": "6Bw2qZW6B8K1",
        "outputId": "6dbe2fd8-b94a-4ea0-b361-92152d414b0f"
      },
      "source": [
        "from sklearn.metrics import ConfusionMatrixDisplay\n",
        "from sklearn.metrics import confusion_matrix\n",
        "cm = confusion_matrix(labels_val, binary_predictions)\n",
        "cm_normed = cm / cm.sum(axis=0)\n",
        "\n",
        "disp = ConfusionMatrixDisplay(confusion_matrix=cm_normed, display_labels=labels_val)\n",
        "\n",
        "disp.plot(cmap=plt.cm.Blues)\n",
        "plt.show()"
      ],
      "execution_count": null,
      "outputs": [
        {
          "output_type": "display_data",
          "data": {
            "image/png": "[encoded data removed]",
            "text/plain": [
              "<Figure size 432x288 with 2 Axes>"
            ]
          },
          "metadata": {
            "needs_background": "light"
          }
        }
      ]
    },
    {
      "cell_type": "code",
      "metadata": {
        "colab": {
          "base_uri": "https://localhost:8080/"
        },
        "id": "-ZUBDCa3Clxh",
        "outputId": "e5a5d6a1-f8a9-45e7-f6bb-1991b2ba442e"
      },
      "source": [
        "print(cm)"
      ],
      "execution_count": null,
      "outputs": [
        {
          "output_type": "stream",
          "name": "stdout",
          "text": [
            "[[3941  201]\n",
            " [ 293 3849]]\n"
          ]
        }
      ]
    },
    {
      "cell_type": "code",
      "metadata": {
        "colab": {
          "base_uri": "https://localhost:8080/"
        },
        "id": "N3rvgQ2rtOPa",
        "outputId": "2c860a62-7498-4d66-fef9-af62dc1a2e61"
      },
      "source": [
        "siamese.save('model_efficientnet_contrastive_imagenet_2_epochs_30_val.h5')"
      ],
      "execution_count": null,
      "outputs": [
        {
          "output_type": "stream",
          "name": "stderr",
          "text": [
            "/usr/local/lib/python3.7/dist-packages/keras/utils/generic_utils.py:497: CustomMaskWarning: Custom mask layers require a config and must override get_config. When loading, the custom mask layer must be passed to the custom_objects argument.\n",
            "  category=CustomMaskWarning)\n"
          ]
        }
      ]
    },
    {
      "cell_type": "code",
      "metadata": {
        "id": "FRq5kiLyxiXs"
      },
      "source": [
        "siamese.save_weights('model_efficientnet_contrastive_imagenet_2_epochs_30_val_w.h5')"
      ],
      "execution_count": null,
      "outputs": []
    },
    {
      "cell_type": "markdown",
      "metadata": {
        "id": "qeGmNila56XM"
      },
      "source": [
        "\n",
        "## Extração de métricas\n",
        "Visualização de dados com heatmap (GradCAM): https://medium.com/analytics-vidhya/visualizing-activation-heatmaps-using-tensorflow-5bdba018f759 \n",
        "https://keras.io/examples/vision/grad_cam/ \n",
        "Visualização dos filtros: https://machinelearningmastery.com/how-to-visualize-filters-and-feature-maps-in-convolutional-neural-networks/ "
      ]
    },
    {
      "cell_type": "markdown",
      "metadata": {
        "id": "AcG4iV7FAnJY"
      },
      "source": [
        "Ideia:\n",
        "Calcular BRISQUE pra todas as imagens de validação (image-quality package)\n",
        "Calcular SSIM pros pares (tf.image.ssim)\n",
        "\n",
        "Iterar sobre as predições e as labels verdadeiras para separar quais são de cada quadrante da CM. \n",
        "\n",
        "Analisar os dados das métricas e inferir sobre."
      ]
    },
    {
      "cell_type": "code",
      "metadata": {
        "id": "hbtM9MP3xpK1"
      },
      "source": [
        "import piq\n",
        "import torch"
      ],
      "execution_count": null,
      "outputs": []
    },
    {
      "cell_type": "code",
      "metadata": {
        "id": "vW2UfPLvw9SK"
      },
      "source": [
        "images_description_list = []\n",
        "images_description = {}\n",
        "\n",
        "for i in range(len(labels_val)):\n",
        "  if labels_val[i] == 1.0 and  binary_predictions[i] == 1.0:\n",
        "    CM_label = 'TP'\n",
        "  elif labels_val[i] == 1.0 and  binary_predictions[i] == 0.0:\n",
        "    CM_label = 'FN'\n",
        "  elif labels_val[i] == 0.0 and  binary_predictions[i] == 1.0:\n",
        "    CM_label = 'FP'\n",
        "  elif labels_val[i] == 0.0 and  binary_predictions[i] == 0.0:\n",
        "    CM_label = 'TN'\n",
        "  x = torch.tensor(x_val_1[i]).permute(2, 0, 1)[None, ...] / 255.\n",
        "  y = torch.tensor(x_val_2[i]).permute(2, 0, 1)[None, ...] / 255.\n",
        "  \n",
        "  if torch.cuda.is_available():\n",
        "      # Move to GPU to make computaions faster\n",
        "      x = x.cuda()\n",
        "      y = y.cuda()\n",
        "\n",
        "  images_description = {\n",
        "    'label_X': labels_val[i], \n",
        "    'BRISQUE_X': piq.brisque(x, data_range=1., reduction='none').item(),\n",
        "    'label_Y': binary_predictions[i],\n",
        "    'BRISQUE_Y': piq.brisque(y, data_range=1., reduction='none').item(),\n",
        "    'SSIM': piq.ssim(x, y, data_range=1.).item(),\n",
        "    'FSIM': piq.fsim(x, y, data_range=1., reduction='none').item(),\n",
        "    'TV_X': piq.total_variation(x).item(),\n",
        "    'TV_Y': piq.total_variation(y).item(),\n",
        "    'CM label': CM_label\n",
        "  }\n",
        "  images_description_list.append(images_description)\n"
      ],
      "execution_count": null,
      "outputs": []
    },
    {
      "cell_type": "code",
      "metadata": {
        "id": "oTWug7IvCrDP"
      },
      "source": [
        "images_description_df = pd.DataFrame(images_description_list)"
      ],
      "execution_count": null,
      "outputs": []
    },
    {
      "cell_type": "code",
      "metadata": {
        "id": "a2324tHiFzDT"
      },
      "source": [
        "images_description_df['label_Y'] = images_description_df['label_Y'].str.get(0)"
      ],
      "execution_count": null,
      "outputs": []
    },
    {
      "cell_type": "code",
      "metadata": {
        "colab": {
          "base_uri": "https://localhost:8080/"
        },
        "id": "J1yOtRUqXgK5",
        "outputId": "98024a55-eee8-4db6-a48c-50c42ae8339d"
      },
      "source": [
        "images_description_df.head()"
      ],
      "execution_count": null,
      "outputs": [
        {
          "output_type": "execute_result",
          "data": {
            "text/html": [
              "<div>\n",
              "<style scoped>\n",
              "    .dataframe tbody tr th:only-of-type {\n",
              "        vertical-align: middle;\n",
              "    }\n",
              "\n",
              "    .dataframe tbody tr th {\n",
              "        vertical-align: top;\n",
              "    }\n",
              "\n",
              "    .dataframe thead th {\n",
              "        text-align: right;\n",
              "    }\n",
              "</style>\n",
              "<table border=\"1\" class=\"dataframe\">\n",
              "  <thead>\n",
              "    <tr style=\"text-align: right;\">\n",
              "      <th></th>\n",
              "      <th>label_X</th>\n",
              "      <th>BRISQUE_X</th>\n",
              "      <th>label_Y</th>\n",
              "      <th>BRISQUE_Y</th>\n",
              "      <th>SSIM</th>\n",
              "      <th>FSIM</th>\n",
              "      <th>TV_X</th>\n",
              "      <th>TV_Y</th>\n",
              "      <th>CM label</th>\n",
              "    </tr>\n",
              "  </thead>\n",
              "  <tbody>\n",
              "    <tr>\n",
              "      <th>0</th>\n",
              "      <td>1.0</td>\n",
              "      <td>34.826355</td>\n",
              "      <td>1</td>\n",
              "      <td>49.566589</td>\n",
              "      <td>0.330910</td>\n",
              "      <td>0.671534</td>\n",
              "      <td>10.163298</td>\n",
              "      <td>11.821282</td>\n",
              "      <td>TP</td>\n",
              "    </tr>\n",
              "    <tr>\n",
              "      <th>1</th>\n",
              "      <td>0.0</td>\n",
              "      <td>34.826355</td>\n",
              "      <td>0</td>\n",
              "      <td>35.630066</td>\n",
              "      <td>0.228216</td>\n",
              "      <td>0.690047</td>\n",
              "      <td>10.163298</td>\n",
              "      <td>4.711935</td>\n",
              "      <td>TN</td>\n",
              "    </tr>\n",
              "    <tr>\n",
              "      <th>2</th>\n",
              "      <td>1.0</td>\n",
              "      <td>40.387390</td>\n",
              "      <td>1</td>\n",
              "      <td>28.567078</td>\n",
              "      <td>0.396207</td>\n",
              "      <td>0.656158</td>\n",
              "      <td>9.878390</td>\n",
              "      <td>5.136484</td>\n",
              "      <td>TP</td>\n",
              "    </tr>\n",
              "    <tr>\n",
              "      <th>3</th>\n",
              "      <td>0.0</td>\n",
              "      <td>40.387390</td>\n",
              "      <td>0</td>\n",
              "      <td>35.630066</td>\n",
              "      <td>0.366917</td>\n",
              "      <td>0.696202</td>\n",
              "      <td>9.878390</td>\n",
              "      <td>4.711935</td>\n",
              "      <td>TN</td>\n",
              "    </tr>\n",
              "    <tr>\n",
              "      <th>4</th>\n",
              "      <td>1.0</td>\n",
              "      <td>33.280945</td>\n",
              "      <td>1</td>\n",
              "      <td>26.671082</td>\n",
              "      <td>0.445643</td>\n",
              "      <td>0.752524</td>\n",
              "      <td>4.624321</td>\n",
              "      <td>8.369758</td>\n",
              "      <td>TP</td>\n",
              "    </tr>\n",
              "  </tbody>\n",
              "</table>\n",
              "</div>"
            ],
            "text/plain": [
              "   label_X  BRISQUE_X  label_Y  ...       TV_X       TV_Y  CM label\n",
              "0      1.0  34.826355        1  ...  10.163298  11.821282        TP\n",
              "1      0.0  34.826355        0  ...  10.163298   4.711935        TN\n",
              "2      1.0  40.387390        1  ...   9.878390   5.136484        TP\n",
              "3      0.0  40.387390        0  ...   9.878390   4.711935        TN\n",
              "4      1.0  33.280945        1  ...   4.624321   8.369758        TP\n",
              "\n",
              "[5 rows x 9 columns]"
            ]
          },
          "metadata": {},
          "execution_count": 98
        }
      ]
    },
    {
      "cell_type": "code",
      "metadata": {
        "id": "zg_okCspYKn2"
      },
      "source": [
        "images_description_df.to_csv('images_data.csv')"
      ],
      "execution_count": null,
      "outputs": []
    },
    {
      "cell_type": "code",
      "metadata": {
        "colab": {
          "base_uri": "https://localhost:8080/"
        },
        "id": "8qOxqGGODl-7",
        "outputId": "a35438bf-79cb-4606-bf1d-3295c3df4839"
      },
      "source": [
        "images_description_df.describe()"
      ],
      "execution_count": null,
      "outputs": [
        {
          "output_type": "execute_result",
          "data": {
            "text/html": [
              "<div>\n",
              "<style scoped>\n",
              "    .dataframe tbody tr th:only-of-type {\n",
              "        vertical-align: middle;\n",
              "    }\n",
              "\n",
              "    .dataframe tbody tr th {\n",
              "        vertical-align: top;\n",
              "    }\n",
              "\n",
              "    .dataframe thead th {\n",
              "        text-align: right;\n",
              "    }\n",
              "</style>\n",
              "<table border=\"1\" class=\"dataframe\">\n",
              "  <thead>\n",
              "    <tr style=\"text-align: right;\">\n",
              "      <th></th>\n",
              "      <th>label_X</th>\n",
              "      <th>BRISQUE_X</th>\n",
              "      <th>label_Y</th>\n",
              "      <th>BRISQUE_Y</th>\n",
              "      <th>SSIM</th>\n",
              "      <th>FSIM</th>\n",
              "      <th>TV_X</th>\n",
              "      <th>TV_Y</th>\n",
              "    </tr>\n",
              "  </thead>\n",
              "  <tbody>\n",
              "    <tr>\n",
              "      <th>count</th>\n",
              "      <td>8284.00000</td>\n",
              "      <td>8284.000000</td>\n",
              "      <td>8284.000000</td>\n",
              "      <td>8284.000000</td>\n",
              "      <td>8284.000000</td>\n",
              "      <td>8284.000000</td>\n",
              "      <td>8284.000000</td>\n",
              "      <td>8284.000000</td>\n",
              "    </tr>\n",
              "    <tr>\n",
              "      <th>mean</th>\n",
              "      <td>0.50000</td>\n",
              "      <td>34.727320</td>\n",
              "      <td>0.488894</td>\n",
              "      <td>34.147715</td>\n",
              "      <td>0.307470</td>\n",
              "      <td>0.671442</td>\n",
              "      <td>10.140192</td>\n",
              "      <td>9.716066</td>\n",
              "    </tr>\n",
              "    <tr>\n",
              "      <th>std</th>\n",
              "      <td>0.50003</td>\n",
              "      <td>12.031022</td>\n",
              "      <td>0.499907</td>\n",
              "      <td>11.823455</td>\n",
              "      <td>0.125632</td>\n",
              "      <td>0.061878</td>\n",
              "      <td>2.639977</td>\n",
              "      <td>2.756280</td>\n",
              "    </tr>\n",
              "    <tr>\n",
              "      <th>min</th>\n",
              "      <td>0.00000</td>\n",
              "      <td>-1.077454</td>\n",
              "      <td>0.000000</td>\n",
              "      <td>-0.988586</td>\n",
              "      <td>-0.149811</td>\n",
              "      <td>0.420236</td>\n",
              "      <td>2.049486</td>\n",
              "      <td>2.049486</td>\n",
              "    </tr>\n",
              "    <tr>\n",
              "      <th>25%</th>\n",
              "      <td>0.00000</td>\n",
              "      <td>26.463562</td>\n",
              "      <td>0.000000</td>\n",
              "      <td>26.147400</td>\n",
              "      <td>0.226964</td>\n",
              "      <td>0.635599</td>\n",
              "      <td>8.311966</td>\n",
              "      <td>7.757819</td>\n",
              "    </tr>\n",
              "    <tr>\n",
              "      <th>50%</th>\n",
              "      <td>0.50000</td>\n",
              "      <td>33.331238</td>\n",
              "      <td>0.000000</td>\n",
              "      <td>33.113220</td>\n",
              "      <td>0.299611</td>\n",
              "      <td>0.671943</td>\n",
              "      <td>10.087307</td>\n",
              "      <td>9.544283</td>\n",
              "    </tr>\n",
              "    <tr>\n",
              "      <th>75%</th>\n",
              "      <td>1.00000</td>\n",
              "      <td>41.688660</td>\n",
              "      <td>1.000000</td>\n",
              "      <td>40.892761</td>\n",
              "      <td>0.376892</td>\n",
              "      <td>0.706029</td>\n",
              "      <td>11.844838</td>\n",
              "      <td>11.506302</td>\n",
              "    </tr>\n",
              "    <tr>\n",
              "      <th>max</th>\n",
              "      <td>1.00000</td>\n",
              "      <td>92.647400</td>\n",
              "      <td>1.000000</td>\n",
              "      <td>92.647400</td>\n",
              "      <td>1.000000</td>\n",
              "      <td>1.000000</td>\n",
              "      <td>24.756016</td>\n",
              "      <td>20.464390</td>\n",
              "    </tr>\n",
              "  </tbody>\n",
              "</table>\n",
              "</div>"
            ],
            "text/plain": [
              "          label_X    BRISQUE_X  ...         TV_X         TV_Y\n",
              "count  8284.00000  8284.000000  ...  8284.000000  8284.000000\n",
              "mean      0.50000    34.727320  ...    10.140192     9.716066\n",
              "std       0.50003    12.031022  ...     2.639977     2.756280\n",
              "min       0.00000    -1.077454  ...     2.049486     2.049486\n",
              "25%       0.00000    26.463562  ...     8.311966     7.757819\n",
              "50%       0.50000    33.331238  ...    10.087307     9.544283\n",
              "75%       1.00000    41.688660  ...    11.844838    11.506302\n",
              "max       1.00000    92.647400  ...    24.756016    20.464390\n",
              "\n",
              "[8 rows x 8 columns]"
            ]
          },
          "metadata": {},
          "execution_count": 100
        }
      ]
    },
    {
      "cell_type": "markdown",
      "metadata": {
        "id": "RtLhyYaCE4Ti"
      },
      "source": [
        "## Estudo das métricas"
      ]
    },
    {
      "cell_type": "code",
      "metadata": {
        "id": "5QtPh0XSE8rv"
      },
      "source": [
        "FROM_DRIVE = False\n",
        "if FROM_DRIVE:\n",
        "  images_description_df = pd.read_csv('/content/drive/MyDrive/Estagio/images_data.csv')"
      ],
      "execution_count": null,
      "outputs": []
    },
    {
      "cell_type": "code",
      "metadata": {
        "colab": {
          "base_uri": "https://localhost:8080/"
        },
        "id": "bKUO0mCzGHmK",
        "outputId": "343da703-e6ed-480f-f3fb-c52c4a95802b"
      },
      "source": [
        "images_description_df.head()"
      ],
      "execution_count": null,
      "outputs": [
        {
          "output_type": "execute_result",
          "data": {
            "text/html": [
              "<div>\n",
              "<style scoped>\n",
              "    .dataframe tbody tr th:only-of-type {\n",
              "        vertical-align: middle;\n",
              "    }\n",
              "\n",
              "    .dataframe tbody tr th {\n",
              "        vertical-align: top;\n",
              "    }\n",
              "\n",
              "    .dataframe thead th {\n",
              "        text-align: right;\n",
              "    }\n",
              "</style>\n",
              "<table border=\"1\" class=\"dataframe\">\n",
              "  <thead>\n",
              "    <tr style=\"text-align: right;\">\n",
              "      <th></th>\n",
              "      <th>label_X</th>\n",
              "      <th>BRISQUE_X</th>\n",
              "      <th>label_Y</th>\n",
              "      <th>BRISQUE_Y</th>\n",
              "      <th>SSIM</th>\n",
              "      <th>FSIM</th>\n",
              "      <th>TV_X</th>\n",
              "      <th>TV_Y</th>\n",
              "      <th>CM label</th>\n",
              "    </tr>\n",
              "  </thead>\n",
              "  <tbody>\n",
              "    <tr>\n",
              "      <th>0</th>\n",
              "      <td>1.0</td>\n",
              "      <td>34.826355</td>\n",
              "      <td>1</td>\n",
              "      <td>49.566589</td>\n",
              "      <td>0.330910</td>\n",
              "      <td>0.671534</td>\n",
              "      <td>10.163298</td>\n",
              "      <td>11.821282</td>\n",
              "      <td>TP</td>\n",
              "    </tr>\n",
              "    <tr>\n",
              "      <th>1</th>\n",
              "      <td>0.0</td>\n",
              "      <td>34.826355</td>\n",
              "      <td>0</td>\n",
              "      <td>35.630066</td>\n",
              "      <td>0.228216</td>\n",
              "      <td>0.690047</td>\n",
              "      <td>10.163298</td>\n",
              "      <td>4.711935</td>\n",
              "      <td>TN</td>\n",
              "    </tr>\n",
              "    <tr>\n",
              "      <th>2</th>\n",
              "      <td>1.0</td>\n",
              "      <td>40.387390</td>\n",
              "      <td>1</td>\n",
              "      <td>28.567078</td>\n",
              "      <td>0.396207</td>\n",
              "      <td>0.656158</td>\n",
              "      <td>9.878390</td>\n",
              "      <td>5.136484</td>\n",
              "      <td>TP</td>\n",
              "    </tr>\n",
              "    <tr>\n",
              "      <th>3</th>\n",
              "      <td>0.0</td>\n",
              "      <td>40.387390</td>\n",
              "      <td>0</td>\n",
              "      <td>35.630066</td>\n",
              "      <td>0.366917</td>\n",
              "      <td>0.696202</td>\n",
              "      <td>9.878390</td>\n",
              "      <td>4.711935</td>\n",
              "      <td>TN</td>\n",
              "    </tr>\n",
              "    <tr>\n",
              "      <th>4</th>\n",
              "      <td>1.0</td>\n",
              "      <td>33.280945</td>\n",
              "      <td>1</td>\n",
              "      <td>26.671082</td>\n",
              "      <td>0.445643</td>\n",
              "      <td>0.752524</td>\n",
              "      <td>4.624321</td>\n",
              "      <td>8.369758</td>\n",
              "      <td>TP</td>\n",
              "    </tr>\n",
              "  </tbody>\n",
              "</table>\n",
              "</div>"
            ],
            "text/plain": [
              "   label_X  BRISQUE_X  label_Y  ...       TV_X       TV_Y  CM label\n",
              "0      1.0  34.826355        1  ...  10.163298  11.821282        TP\n",
              "1      0.0  34.826355        0  ...  10.163298   4.711935        TN\n",
              "2      1.0  40.387390        1  ...   9.878390   5.136484        TP\n",
              "3      0.0  40.387390        0  ...   9.878390   4.711935        TN\n",
              "4      1.0  33.280945        1  ...   4.624321   8.369758        TP\n",
              "\n",
              "[5 rows x 9 columns]"
            ]
          },
          "metadata": {},
          "execution_count": 102
        }
      ]
    },
    {
      "cell_type": "code",
      "metadata": {
        "colab": {
          "base_uri": "https://localhost:8080/",
          "height": 300
        },
        "id": "L8sTSLd0JJtJ",
        "outputId": "c2ee9273-5ede-4efd-94b3-e5eb63934455"
      },
      "source": [
        "images_description_df.describe()"
      ],
      "execution_count": null,
      "outputs": [
        {
          "output_type": "execute_result",
          "data": {
            "text/html": [
              "<div>\n",
              "<style scoped>\n",
              "    .dataframe tbody tr th:only-of-type {\n",
              "        vertical-align: middle;\n",
              "    }\n",
              "\n",
              "    .dataframe tbody tr th {\n",
              "        vertical-align: top;\n",
              "    }\n",
              "\n",
              "    .dataframe thead th {\n",
              "        text-align: right;\n",
              "    }\n",
              "</style>\n",
              "<table border=\"1\" class=\"dataframe\">\n",
              "  <thead>\n",
              "    <tr style=\"text-align: right;\">\n",
              "      <th></th>\n",
              "      <th>label_X</th>\n",
              "      <th>BRISQUE_X</th>\n",
              "      <th>label_Y</th>\n",
              "      <th>BRISQUE_Y</th>\n",
              "      <th>SSIM</th>\n",
              "      <th>FSIM</th>\n",
              "      <th>TV_X</th>\n",
              "      <th>TV_Y</th>\n",
              "    </tr>\n",
              "  </thead>\n",
              "  <tbody>\n",
              "    <tr>\n",
              "      <th>count</th>\n",
              "      <td>8284.00000</td>\n",
              "      <td>8284.000000</td>\n",
              "      <td>8284.000000</td>\n",
              "      <td>8284.000000</td>\n",
              "      <td>8284.000000</td>\n",
              "      <td>8284.000000</td>\n",
              "      <td>8284.000000</td>\n",
              "      <td>8284.000000</td>\n",
              "    </tr>\n",
              "    <tr>\n",
              "      <th>mean</th>\n",
              "      <td>0.50000</td>\n",
              "      <td>34.727320</td>\n",
              "      <td>0.488894</td>\n",
              "      <td>34.147715</td>\n",
              "      <td>0.307470</td>\n",
              "      <td>0.671442</td>\n",
              "      <td>10.140192</td>\n",
              "      <td>9.716066</td>\n",
              "    </tr>\n",
              "    <tr>\n",
              "      <th>std</th>\n",
              "      <td>0.50003</td>\n",
              "      <td>12.031022</td>\n",
              "      <td>0.499907</td>\n",
              "      <td>11.823455</td>\n",
              "      <td>0.125632</td>\n",
              "      <td>0.061878</td>\n",
              "      <td>2.639977</td>\n",
              "      <td>2.756280</td>\n",
              "    </tr>\n",
              "    <tr>\n",
              "      <th>min</th>\n",
              "      <td>0.00000</td>\n",
              "      <td>-1.077454</td>\n",
              "      <td>0.000000</td>\n",
              "      <td>-0.988586</td>\n",
              "      <td>-0.149811</td>\n",
              "      <td>0.420236</td>\n",
              "      <td>2.049486</td>\n",
              "      <td>2.049486</td>\n",
              "    </tr>\n",
              "    <tr>\n",
              "      <th>25%</th>\n",
              "      <td>0.00000</td>\n",
              "      <td>26.463562</td>\n",
              "      <td>0.000000</td>\n",
              "      <td>26.147400</td>\n",
              "      <td>0.226964</td>\n",
              "      <td>0.635599</td>\n",
              "      <td>8.311966</td>\n",
              "      <td>7.757819</td>\n",
              "    </tr>\n",
              "    <tr>\n",
              "      <th>50%</th>\n",
              "      <td>0.50000</td>\n",
              "      <td>33.331238</td>\n",
              "      <td>0.000000</td>\n",
              "      <td>33.113220</td>\n",
              "      <td>0.299611</td>\n",
              "      <td>0.671943</td>\n",
              "      <td>10.087307</td>\n",
              "      <td>9.544283</td>\n",
              "    </tr>\n",
              "    <tr>\n",
              "      <th>75%</th>\n",
              "      <td>1.00000</td>\n",
              "      <td>41.688660</td>\n",
              "      <td>1.000000</td>\n",
              "      <td>40.892761</td>\n",
              "      <td>0.376892</td>\n",
              "      <td>0.706029</td>\n",
              "      <td>11.844838</td>\n",
              "      <td>11.506302</td>\n",
              "    </tr>\n",
              "    <tr>\n",
              "      <th>max</th>\n",
              "      <td>1.00000</td>\n",
              "      <td>92.647400</td>\n",
              "      <td>1.000000</td>\n",
              "      <td>92.647400</td>\n",
              "      <td>1.000000</td>\n",
              "      <td>1.000000</td>\n",
              "      <td>24.756016</td>\n",
              "      <td>20.464390</td>\n",
              "    </tr>\n",
              "  </tbody>\n",
              "</table>\n",
              "</div>"
            ],
            "text/plain": [
              "          label_X    BRISQUE_X  ...         TV_X         TV_Y\n",
              "count  8284.00000  8284.000000  ...  8284.000000  8284.000000\n",
              "mean      0.50000    34.727320  ...    10.140192     9.716066\n",
              "std       0.50003    12.031022  ...     2.639977     2.756280\n",
              "min       0.00000    -1.077454  ...     2.049486     2.049486\n",
              "25%       0.00000    26.463562  ...     8.311966     7.757819\n",
              "50%       0.50000    33.331238  ...    10.087307     9.544283\n",
              "75%       1.00000    41.688660  ...    11.844838    11.506302\n",
              "max       1.00000    92.647400  ...    24.756016    20.464390\n",
              "\n",
              "[8 rows x 8 columns]"
            ]
          },
          "metadata": {},
          "execution_count": 103
        }
      ]
    },
    {
      "cell_type": "code",
      "metadata": {
        "colab": {
          "base_uri": "https://localhost:8080/"
        },
        "id": "C9M1BYtAIJru",
        "outputId": "f302b438-a720-4429-9d33-5db4abb27774"
      },
      "source": [
        "images_description_df.shape"
      ],
      "execution_count": null,
      "outputs": [
        {
          "output_type": "execute_result",
          "data": {
            "text/plain": [
              "(8284, 9)"
            ]
          },
          "metadata": {},
          "execution_count": 104
        }
      ]
    },
    {
      "cell_type": "code",
      "metadata": {
        "colab": {
          "base_uri": "https://localhost:8080/",
          "height": 300
        },
        "id": "_eZ73RaHIPnM",
        "outputId": "37b65ef7-8e36-4cb0-f975-c302a0cdbd75"
      },
      "source": [
        "TP = images_description_df.loc[images_description_df['CM label'] == 'TP']\n",
        "TP.describe()"
      ],
      "execution_count": null,
      "outputs": [
        {
          "output_type": "execute_result",
          "data": {
            "text/html": [
              "<div>\n",
              "<style scoped>\n",
              "    .dataframe tbody tr th:only-of-type {\n",
              "        vertical-align: middle;\n",
              "    }\n",
              "\n",
              "    .dataframe tbody tr th {\n",
              "        vertical-align: top;\n",
              "    }\n",
              "\n",
              "    .dataframe thead th {\n",
              "        text-align: right;\n",
              "    }\n",
              "</style>\n",
              "<table border=\"1\" class=\"dataframe\">\n",
              "  <thead>\n",
              "    <tr style=\"text-align: right;\">\n",
              "      <th></th>\n",
              "      <th>label_X</th>\n",
              "      <th>BRISQUE_X</th>\n",
              "      <th>label_Y</th>\n",
              "      <th>BRISQUE_Y</th>\n",
              "      <th>SSIM</th>\n",
              "      <th>FSIM</th>\n",
              "      <th>TV_X</th>\n",
              "      <th>TV_Y</th>\n",
              "    </tr>\n",
              "  </thead>\n",
              "  <tbody>\n",
              "    <tr>\n",
              "      <th>count</th>\n",
              "      <td>3849.0</td>\n",
              "      <td>3849.000000</td>\n",
              "      <td>3849.0</td>\n",
              "      <td>3849.000000</td>\n",
              "      <td>3849.000000</td>\n",
              "      <td>3849.000000</td>\n",
              "      <td>3849.000000</td>\n",
              "      <td>3849.000000</td>\n",
              "    </tr>\n",
              "    <tr>\n",
              "      <th>mean</th>\n",
              "      <td>1.0</td>\n",
              "      <td>34.841791</td>\n",
              "      <td>1.0</td>\n",
              "      <td>34.873888</td>\n",
              "      <td>0.323129</td>\n",
              "      <td>0.680100</td>\n",
              "      <td>10.130968</td>\n",
              "      <td>10.154046</td>\n",
              "    </tr>\n",
              "    <tr>\n",
              "      <th>std</th>\n",
              "      <td>0.0</td>\n",
              "      <td>12.044938</td>\n",
              "      <td>0.0</td>\n",
              "      <td>11.970360</td>\n",
              "      <td>0.142437</td>\n",
              "      <td>0.068698</td>\n",
              "      <td>2.635930</td>\n",
              "      <td>2.620271</td>\n",
              "    </tr>\n",
              "    <tr>\n",
              "      <th>min</th>\n",
              "      <td>1.0</td>\n",
              "      <td>-1.077454</td>\n",
              "      <td>1.0</td>\n",
              "      <td>-0.988586</td>\n",
              "      <td>-0.029265</td>\n",
              "      <td>0.431901</td>\n",
              "      <td>2.049486</td>\n",
              "      <td>2.049486</td>\n",
              "    </tr>\n",
              "    <tr>\n",
              "      <th>25%</th>\n",
              "      <td>1.0</td>\n",
              "      <td>26.524109</td>\n",
              "      <td>1.0</td>\n",
              "      <td>26.596375</td>\n",
              "      <td>0.236899</td>\n",
              "      <td>0.641530</td>\n",
              "      <td>8.323753</td>\n",
              "      <td>8.310276</td>\n",
              "    </tr>\n",
              "    <tr>\n",
              "      <th>50%</th>\n",
              "      <td>1.0</td>\n",
              "      <td>33.448914</td>\n",
              "      <td>1.0</td>\n",
              "      <td>33.479187</td>\n",
              "      <td>0.308169</td>\n",
              "      <td>0.676119</td>\n",
              "      <td>10.100497</td>\n",
              "      <td>10.140539</td>\n",
              "    </tr>\n",
              "    <tr>\n",
              "      <th>75%</th>\n",
              "      <td>1.0</td>\n",
              "      <td>41.888367</td>\n",
              "      <td>1.0</td>\n",
              "      <td>42.095886</td>\n",
              "      <td>0.389547</td>\n",
              "      <td>0.710973</td>\n",
              "      <td>11.815547</td>\n",
              "      <td>11.894830</td>\n",
              "    </tr>\n",
              "    <tr>\n",
              "      <th>max</th>\n",
              "      <td>1.0</td>\n",
              "      <td>92.647400</td>\n",
              "      <td>1.0</td>\n",
              "      <td>92.647400</td>\n",
              "      <td>1.000000</td>\n",
              "      <td>1.000000</td>\n",
              "      <td>22.580667</td>\n",
              "      <td>20.464390</td>\n",
              "    </tr>\n",
              "  </tbody>\n",
              "</table>\n",
              "</div>"
            ],
            "text/plain": [
              "       label_X    BRISQUE_X  label_Y  ...         FSIM         TV_X         TV_Y\n",
              "count   3849.0  3849.000000   3849.0  ...  3849.000000  3849.000000  3849.000000\n",
              "mean       1.0    34.841791      1.0  ...     0.680100    10.130968    10.154046\n",
              "std        0.0    12.044938      0.0  ...     0.068698     2.635930     2.620271\n",
              "min        1.0    -1.077454      1.0  ...     0.431901     2.049486     2.049486\n",
              "25%        1.0    26.524109      1.0  ...     0.641530     8.323753     8.310276\n",
              "50%        1.0    33.448914      1.0  ...     0.676119    10.100497    10.140539\n",
              "75%        1.0    41.888367      1.0  ...     0.710973    11.815547    11.894830\n",
              "max        1.0    92.647400      1.0  ...     1.000000    22.580667    20.464390\n",
              "\n",
              "[8 rows x 8 columns]"
            ]
          },
          "metadata": {},
          "execution_count": 105
        }
      ]
    },
    {
      "cell_type": "code",
      "metadata": {
        "colab": {
          "base_uri": "https://localhost:8080/",
          "height": 300
        },
        "id": "fuxJlwlaN2a_",
        "outputId": "a62ea350-b537-4d51-e6fa-cc2c73cb1eb2"
      },
      "source": [
        "FP = images_description_df.loc[images_description_df['CM label'] == 'FP']\n",
        "FP.describe()"
      ],
      "execution_count": null,
      "outputs": [
        {
          "output_type": "execute_result",
          "data": {
            "text/html": [
              "<div>\n",
              "<style scoped>\n",
              "    .dataframe tbody tr th:only-of-type {\n",
              "        vertical-align: middle;\n",
              "    }\n",
              "\n",
              "    .dataframe tbody tr th {\n",
              "        vertical-align: top;\n",
              "    }\n",
              "\n",
              "    .dataframe thead th {\n",
              "        text-align: right;\n",
              "    }\n",
              "</style>\n",
              "<table border=\"1\" class=\"dataframe\">\n",
              "  <thead>\n",
              "    <tr style=\"text-align: right;\">\n",
              "      <th></th>\n",
              "      <th>label_X</th>\n",
              "      <th>BRISQUE_X</th>\n",
              "      <th>label_Y</th>\n",
              "      <th>BRISQUE_Y</th>\n",
              "      <th>SSIM</th>\n",
              "      <th>FSIM</th>\n",
              "      <th>TV_X</th>\n",
              "      <th>TV_Y</th>\n",
              "    </tr>\n",
              "  </thead>\n",
              "  <tbody>\n",
              "    <tr>\n",
              "      <th>count</th>\n",
              "      <td>201.0</td>\n",
              "      <td>201.000000</td>\n",
              "      <td>201.0</td>\n",
              "      <td>201.000000</td>\n",
              "      <td>201.000000</td>\n",
              "      <td>201.000000</td>\n",
              "      <td>201.000000</td>\n",
              "      <td>201.000000</td>\n",
              "    </tr>\n",
              "    <tr>\n",
              "      <th>mean</th>\n",
              "      <td>0.0</td>\n",
              "      <td>31.298077</td>\n",
              "      <td>1.0</td>\n",
              "      <td>33.034858</td>\n",
              "      <td>0.310874</td>\n",
              "      <td>0.678282</td>\n",
              "      <td>9.637990</td>\n",
              "      <td>9.319053</td>\n",
              "    </tr>\n",
              "    <tr>\n",
              "      <th>std</th>\n",
              "      <td>0.0</td>\n",
              "      <td>11.020483</td>\n",
              "      <td>0.0</td>\n",
              "      <td>12.002350</td>\n",
              "      <td>0.106640</td>\n",
              "      <td>0.053799</td>\n",
              "      <td>2.851383</td>\n",
              "      <td>2.830595</td>\n",
              "    </tr>\n",
              "    <tr>\n",
              "      <th>min</th>\n",
              "      <td>0.0</td>\n",
              "      <td>-0.988586</td>\n",
              "      <td>1.0</td>\n",
              "      <td>-0.988586</td>\n",
              "      <td>-0.053600</td>\n",
              "      <td>0.513914</td>\n",
              "      <td>4.511989</td>\n",
              "      <td>2.152491</td>\n",
              "    </tr>\n",
              "    <tr>\n",
              "      <th>25%</th>\n",
              "      <td>0.0</td>\n",
              "      <td>24.559753</td>\n",
              "      <td>1.0</td>\n",
              "      <td>25.268250</td>\n",
              "      <td>0.235056</td>\n",
              "      <td>0.651680</td>\n",
              "      <td>7.668378</td>\n",
              "      <td>7.422437</td>\n",
              "    </tr>\n",
              "    <tr>\n",
              "      <th>50%</th>\n",
              "      <td>0.0</td>\n",
              "      <td>29.683777</td>\n",
              "      <td>1.0</td>\n",
              "      <td>31.106628</td>\n",
              "      <td>0.310156</td>\n",
              "      <td>0.683341</td>\n",
              "      <td>8.959122</td>\n",
              "      <td>8.601164</td>\n",
              "    </tr>\n",
              "    <tr>\n",
              "      <th>75%</th>\n",
              "      <td>0.0</td>\n",
              "      <td>37.417664</td>\n",
              "      <td>1.0</td>\n",
              "      <td>39.184753</td>\n",
              "      <td>0.379216</td>\n",
              "      <td>0.712941</td>\n",
              "      <td>11.311502</td>\n",
              "      <td>10.603802</td>\n",
              "    </tr>\n",
              "    <tr>\n",
              "      <th>max</th>\n",
              "      <td>0.0</td>\n",
              "      <td>79.518005</td>\n",
              "      <td>1.0</td>\n",
              "      <td>88.114685</td>\n",
              "      <td>0.581693</td>\n",
              "      <td>0.811216</td>\n",
              "      <td>24.756016</td>\n",
              "      <td>19.492075</td>\n",
              "    </tr>\n",
              "  </tbody>\n",
              "</table>\n",
              "</div>"
            ],
            "text/plain": [
              "       label_X   BRISQUE_X  label_Y  ...        FSIM        TV_X        TV_Y\n",
              "count    201.0  201.000000    201.0  ...  201.000000  201.000000  201.000000\n",
              "mean       0.0   31.298077      1.0  ...    0.678282    9.637990    9.319053\n",
              "std        0.0   11.020483      0.0  ...    0.053799    2.851383    2.830595\n",
              "min        0.0   -0.988586      1.0  ...    0.513914    4.511989    2.152491\n",
              "25%        0.0   24.559753      1.0  ...    0.651680    7.668378    7.422437\n",
              "50%        0.0   29.683777      1.0  ...    0.683341    8.959122    8.601164\n",
              "75%        0.0   37.417664      1.0  ...    0.712941   11.311502   10.603802\n",
              "max        0.0   79.518005      1.0  ...    0.811216   24.756016   19.492075\n",
              "\n",
              "[8 rows x 8 columns]"
            ]
          },
          "metadata": {},
          "execution_count": 106
        }
      ]
    },
    {
      "cell_type": "code",
      "metadata": {
        "colab": {
          "base_uri": "https://localhost:8080/",
          "height": 300
        },
        "id": "_lZtZjnTH9kr",
        "outputId": "c21766b7-3821-407b-b025-48704f356564"
      },
      "source": [
        "TN = images_description_df.loc[images_description_df['CM label'] == 'TN']\n",
        "TN.describe()"
      ],
      "execution_count": null,
      "outputs": [
        {
          "output_type": "execute_result",
          "data": {
            "text/html": [
              "<div>\n",
              "<style scoped>\n",
              "    .dataframe tbody tr th:only-of-type {\n",
              "        vertical-align: middle;\n",
              "    }\n",
              "\n",
              "    .dataframe tbody tr th {\n",
              "        vertical-align: top;\n",
              "    }\n",
              "\n",
              "    .dataframe thead th {\n",
              "        text-align: right;\n",
              "    }\n",
              "</style>\n",
              "<table border=\"1\" class=\"dataframe\">\n",
              "  <thead>\n",
              "    <tr style=\"text-align: right;\">\n",
              "      <th></th>\n",
              "      <th>label_X</th>\n",
              "      <th>BRISQUE_X</th>\n",
              "      <th>label_Y</th>\n",
              "      <th>BRISQUE_Y</th>\n",
              "      <th>SSIM</th>\n",
              "      <th>FSIM</th>\n",
              "      <th>TV_X</th>\n",
              "      <th>TV_Y</th>\n",
              "    </tr>\n",
              "  </thead>\n",
              "  <tbody>\n",
              "    <tr>\n",
              "      <th>count</th>\n",
              "      <td>3941.0</td>\n",
              "      <td>3941.000000</td>\n",
              "      <td>3941.0</td>\n",
              "      <td>3941.000000</td>\n",
              "      <td>3941.000000</td>\n",
              "      <td>3941.000000</td>\n",
              "      <td>3941.000000</td>\n",
              "      <td>3941.000000</td>\n",
              "    </tr>\n",
              "    <tr>\n",
              "      <th>mean</th>\n",
              "      <td>0.0</td>\n",
              "      <td>34.902219</td>\n",
              "      <td>0.0</td>\n",
              "      <td>33.415356</td>\n",
              "      <td>0.292806</td>\n",
              "      <td>0.662913</td>\n",
              "      <td>10.165805</td>\n",
              "      <td>9.255131</td>\n",
              "    </tr>\n",
              "    <tr>\n",
              "      <th>std</th>\n",
              "      <td>0.0</td>\n",
              "      <td>12.056224</td>\n",
              "      <td>0.0</td>\n",
              "      <td>11.528814</td>\n",
              "      <td>0.106764</td>\n",
              "      <td>0.054212</td>\n",
              "      <td>2.626724</td>\n",
              "      <td>2.808390</td>\n",
              "    </tr>\n",
              "    <tr>\n",
              "      <th>min</th>\n",
              "      <td>0.0</td>\n",
              "      <td>-1.077454</td>\n",
              "      <td>0.0</td>\n",
              "      <td>1.191589</td>\n",
              "      <td>-0.095453</td>\n",
              "      <td>0.443967</td>\n",
              "      <td>2.049486</td>\n",
              "      <td>2.049486</td>\n",
              "    </tr>\n",
              "    <tr>\n",
              "      <th>25%</th>\n",
              "      <td>0.0</td>\n",
              "      <td>26.547546</td>\n",
              "      <td>0.0</td>\n",
              "      <td>25.806335</td>\n",
              "      <td>0.221280</td>\n",
              "      <td>0.628995</td>\n",
              "      <td>8.366670</td>\n",
              "      <td>7.341035</td>\n",
              "    </tr>\n",
              "    <tr>\n",
              "      <th>50%</th>\n",
              "      <td>0.0</td>\n",
              "      <td>33.482605</td>\n",
              "      <td>0.0</td>\n",
              "      <td>32.461609</td>\n",
              "      <td>0.290427</td>\n",
              "      <td>0.666907</td>\n",
              "      <td>10.126726</td>\n",
              "      <td>8.790467</td>\n",
              "    </tr>\n",
              "    <tr>\n",
              "      <th>75%</th>\n",
              "      <td>0.0</td>\n",
              "      <td>41.902039</td>\n",
              "      <td>0.0</td>\n",
              "      <td>39.905945</td>\n",
              "      <td>0.365411</td>\n",
              "      <td>0.700815</td>\n",
              "      <td>11.858230</td>\n",
              "      <td>10.822242</td>\n",
              "    </tr>\n",
              "    <tr>\n",
              "      <th>max</th>\n",
              "      <td>0.0</td>\n",
              "      <td>92.647400</td>\n",
              "      <td>0.0</td>\n",
              "      <td>92.647400</td>\n",
              "      <td>0.622514</td>\n",
              "      <td>0.836439</td>\n",
              "      <td>22.580667</td>\n",
              "      <td>20.464390</td>\n",
              "    </tr>\n",
              "  </tbody>\n",
              "</table>\n",
              "</div>"
            ],
            "text/plain": [
              "       label_X    BRISQUE_X  label_Y  ...         FSIM         TV_X         TV_Y\n",
              "count   3941.0  3941.000000   3941.0  ...  3941.000000  3941.000000  3941.000000\n",
              "mean       0.0    34.902219      0.0  ...     0.662913    10.165805     9.255131\n",
              "std        0.0    12.056224      0.0  ...     0.054212     2.626724     2.808390\n",
              "min        0.0    -1.077454      0.0  ...     0.443967     2.049486     2.049486\n",
              "25%        0.0    26.547546      0.0  ...     0.628995     8.366670     7.341035\n",
              "50%        0.0    33.482605      0.0  ...     0.666907    10.126726     8.790467\n",
              "75%        0.0    41.902039      0.0  ...     0.700815    11.858230    10.822242\n",
              "max        0.0    92.647400      0.0  ...     0.836439    22.580667    20.464390\n",
              "\n",
              "[8 rows x 8 columns]"
            ]
          },
          "metadata": {},
          "execution_count": 107
        }
      ]
    },
    {
      "cell_type": "code",
      "metadata": {
        "colab": {
          "base_uri": "https://localhost:8080/",
          "height": 300
        },
        "id": "FvzTWmtkNm64",
        "outputId": "65f95fa9-2112-4223-be23-8c7aee463ea2"
      },
      "source": [
        "FN = images_description_df.loc[images_description_df['CM label'] == 'FN']\n",
        "FN.describe()"
      ],
      "execution_count": null,
      "outputs": [
        {
          "output_type": "execute_result",
          "data": {
            "text/html": [
              "<div>\n",
              "<style scoped>\n",
              "    .dataframe tbody tr th:only-of-type {\n",
              "        vertical-align: middle;\n",
              "    }\n",
              "\n",
              "    .dataframe tbody tr th {\n",
              "        vertical-align: top;\n",
              "    }\n",
              "\n",
              "    .dataframe thead th {\n",
              "        text-align: right;\n",
              "    }\n",
              "</style>\n",
              "<table border=\"1\" class=\"dataframe\">\n",
              "  <thead>\n",
              "    <tr style=\"text-align: right;\">\n",
              "      <th></th>\n",
              "      <th>label_X</th>\n",
              "      <th>BRISQUE_X</th>\n",
              "      <th>label_Y</th>\n",
              "      <th>BRISQUE_Y</th>\n",
              "      <th>SSIM</th>\n",
              "      <th>FSIM</th>\n",
              "      <th>TV_X</th>\n",
              "      <th>TV_Y</th>\n",
              "    </tr>\n",
              "  </thead>\n",
              "  <tbody>\n",
              "    <tr>\n",
              "      <th>count</th>\n",
              "      <td>293.0</td>\n",
              "      <td>293.000000</td>\n",
              "      <td>293.0</td>\n",
              "      <td>293.000000</td>\n",
              "      <td>293.000000</td>\n",
              "      <td>293.000000</td>\n",
              "      <td>293.000000</td>\n",
              "      <td>293.000000</td>\n",
              "    </tr>\n",
              "    <tr>\n",
              "      <th>mean</th>\n",
              "      <td>1.0</td>\n",
              "      <td>33.223575</td>\n",
              "      <td>0.0</td>\n",
              "      <td>35.222355</td>\n",
              "      <td>0.296670</td>\n",
              "      <td>0.667720</td>\n",
              "      <td>10.261363</td>\n",
              "      <td>10.434679</td>\n",
              "    </tr>\n",
              "    <tr>\n",
              "      <th>std</th>\n",
              "      <td>0.0</td>\n",
              "      <td>11.774214</td>\n",
              "      <td>0.0</td>\n",
              "      <td>12.995654</td>\n",
              "      <td>0.111816</td>\n",
              "      <td>0.052582</td>\n",
              "      <td>2.696439</td>\n",
              "      <td>2.663082</td>\n",
              "    </tr>\n",
              "    <tr>\n",
              "      <th>min</th>\n",
              "      <td>1.0</td>\n",
              "      <td>-0.988586</td>\n",
              "      <td>0.0</td>\n",
              "      <td>-0.988586</td>\n",
              "      <td>-0.149811</td>\n",
              "      <td>0.420236</td>\n",
              "      <td>3.997383</td>\n",
              "      <td>3.997383</td>\n",
              "    </tr>\n",
              "    <tr>\n",
              "      <th>25%</th>\n",
              "      <td>1.0</td>\n",
              "      <td>26.042175</td>\n",
              "      <td>0.0</td>\n",
              "      <td>26.750183</td>\n",
              "      <td>0.213644</td>\n",
              "      <td>0.636148</td>\n",
              "      <td>8.242240</td>\n",
              "      <td>8.594880</td>\n",
              "    </tr>\n",
              "    <tr>\n",
              "      <th>50%</th>\n",
              "      <td>1.0</td>\n",
              "      <td>31.848816</td>\n",
              "      <td>0.0</td>\n",
              "      <td>33.363464</td>\n",
              "      <td>0.299480</td>\n",
              "      <td>0.668024</td>\n",
              "      <td>9.953192</td>\n",
              "      <td>10.459428</td>\n",
              "    </tr>\n",
              "    <tr>\n",
              "      <th>75%</th>\n",
              "      <td>1.0</td>\n",
              "      <td>38.371277</td>\n",
              "      <td>0.0</td>\n",
              "      <td>41.912781</td>\n",
              "      <td>0.374975</td>\n",
              "      <td>0.704699</td>\n",
              "      <td>12.082197</td>\n",
              "      <td>12.325704</td>\n",
              "    </tr>\n",
              "    <tr>\n",
              "      <th>max</th>\n",
              "      <td>1.0</td>\n",
              "      <td>79.518005</td>\n",
              "      <td>0.0</td>\n",
              "      <td>79.518005</td>\n",
              "      <td>0.556466</td>\n",
              "      <td>0.819415</td>\n",
              "      <td>24.756016</td>\n",
              "      <td>17.310360</td>\n",
              "    </tr>\n",
              "  </tbody>\n",
              "</table>\n",
              "</div>"
            ],
            "text/plain": [
              "       label_X   BRISQUE_X  label_Y  ...        FSIM        TV_X        TV_Y\n",
              "count    293.0  293.000000    293.0  ...  293.000000  293.000000  293.000000\n",
              "mean       1.0   33.223575      0.0  ...    0.667720   10.261363   10.434679\n",
              "std        0.0   11.774214      0.0  ...    0.052582    2.696439    2.663082\n",
              "min        1.0   -0.988586      0.0  ...    0.420236    3.997383    3.997383\n",
              "25%        1.0   26.042175      0.0  ...    0.636148    8.242240    8.594880\n",
              "50%        1.0   31.848816      0.0  ...    0.668024    9.953192   10.459428\n",
              "75%        1.0   38.371277      0.0  ...    0.704699   12.082197   12.325704\n",
              "max        1.0   79.518005      0.0  ...    0.819415   24.756016   17.310360\n",
              "\n",
              "[8 rows x 8 columns]"
            ]
          },
          "metadata": {},
          "execution_count": 108
        }
      ]
    }
  ]
}